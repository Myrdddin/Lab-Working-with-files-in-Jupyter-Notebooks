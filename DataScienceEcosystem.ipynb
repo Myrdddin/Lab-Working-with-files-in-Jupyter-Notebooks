{
 "cells": [
  {
   "cell_type": "markdown",
   "id": "ade1f8c8-03d5-41b1-9255-7ea7707c6c7b",
   "metadata": {},
   "source": [
    "Data Science Toools and Ecosystem"
   ]
  },
  {
   "cell_type": "markdown",
   "id": "a715279b-1cd0-4b31-b5c9-afbf93c1563f",
   "metadata": {},
   "source": [
    "In this notebook, Data Science Tools and Ecosystem are summarized."
   ]
  },
  {
   "cell_type": "markdown",
   "id": "62425f5b-366d-4938-8075-655d61d4fad7",
   "metadata": {},
   "source": [
    "Objectives:\n",
    "\n",
    "List popular languajes for Data Science, List popular tools for Data Science, List popular libraries for Data Science and much more "
   ]
  },
  {
   "cell_type": "markdown",
   "id": "306f66e4-34dd-4e57-9c4c-83a823c650bb",
   "metadata": {},
   "source": [
    "Some of the popular languages that Data Scientists use are:\n",
    "\n",
    "1.Python\n",
    "\n",
    "2.R\n",
    "\n",
    "3.Java\n",
    "\n",
    "4.SQL\n",
    "\n",
    "5.Scala\n"
   ]
  },
  {
   "cell_type": "markdown",
   "id": "ae867286-a3f1-4d8a-8be5-f60596782ae3",
   "metadata": {},
   "source": [
    "Some of the commonly used libraries used by Data Scientists include:\n",
    "1.Numpy\n",
    "2.Pandas\n",
    "3.Scikit-learn\n",
    "4.Matplotlib"
   ]
  },
  {
   "cell_type": "markdown",
   "id": "857967f0-6da7-4213-ae1b-61945cf1710b",
   "metadata": {},
   "source": [
    "Data Science Tools\n",
    "\n",
    "|Integrate.io|Python|TensorFlow|"
   ]
  },
  {
   "cell_type": "markdown",
   "id": "336121be-db88-44aa-904d-20a16e1d6bb9",
   "metadata": {},
   "source": [
    "Bellow are a few examples of evaluating arithmetic expressions in Python."
   ]
  },
  {
   "cell_type": "code",
   "execution_count": 28,
   "id": "90ea417b-75e3-4ff8-8c59-0d6a21d36e50",
   "metadata": {},
   "outputs": [
    {
     "data": {
      "text/plain": [
       "17"
      ]
     },
     "execution_count": 28,
     "metadata": {},
     "output_type": "execute_result"
    }
   ],
   "source": [
    "(3*4)+5\n",
    "#This a simple arithmetic expression to multiply then add integers"
   ]
  },
  {
   "cell_type": "code",
   "execution_count": 30,
   "id": "28166aca-2cdc-432c-a574-9db738dadc56",
   "metadata": {},
   "outputs": [
    {
     "data": {
      "text/plain": [
       "3.3333333333333335"
      ]
     },
     "execution_count": 30,
     "metadata": {},
     "output_type": "execute_result"
    }
   ],
   "source": [
    "200/60\n",
    "#This will convert 200 minutes to hours by diving by 60"
   ]
  },
  {
   "cell_type": "markdown",
   "id": "3253fe8f-38ee-48f1-a04d-df87a759ff67",
   "metadata": {},
   "source": [
    "Author\n",
    "\n",
    "Luis Bernal"
   ]
  }
 ],
 "metadata": {
  "kernelspec": {
   "display_name": "Python [conda env:base] *",
   "language": "python",
   "name": "conda-base-py"
  },
  "language_info": {
   "codemirror_mode": {
    "name": "ipython",
    "version": 3
   },
   "file_extension": ".py",
   "mimetype": "text/x-python",
   "name": "python",
   "nbconvert_exporter": "python",
   "pygments_lexer": "ipython3",
   "version": "3.12.7"
  }
 },
 "nbformat": 4,
 "nbformat_minor": 5
}
